{
 "cells": [
  {
   "cell_type": "code",
   "execution_count": 1,
   "metadata": {},
   "outputs": [],
   "source": [
    "import cv2\n",
    "import numpy as np\n",
    "from keras.datasets import mnist\n",
    "from keras.layers import Dense, Flatten\n",
    "from keras.layers.convolutional import Conv2D\n",
    "from keras.models import Sequential\n",
    "from keras.utils import to_categorical\n",
    "import matplotlib.pyplot as plt\n",
    "from keras.models import Sequential,Input,Model\n",
    "from keras.layers import Dense, Dropout, Flatten\n",
    "from keras.layers import Conv2D, MaxPooling2D\n",
    "from keras.layers.normalization import BatchNormalization\n",
    "from keras.layers.advanced_activations import LeakyReLU"
   ]
  },
  {
   "cell_type": "code",
   "execution_count": 2,
   "metadata": {},
   "outputs": [],
   "source": [
    "(X_train, y_train), (X_test, y_test) = mnist.load_data()"
   ]
  },
  {
   "cell_type": "code",
   "execution_count": 3,
   "metadata": {},
   "outputs": [
    {
     "data": {
      "text/plain": [
       "numpy.ndarray"
      ]
     },
     "execution_count": 3,
     "metadata": {},
     "output_type": "execute_result"
    }
   ],
   "source": [
    "type(X_train)"
   ]
  },
  {
   "cell_type": "code",
   "execution_count": 4,
   "metadata": {},
   "outputs": [
    {
     "data": {
      "image/png": "[encoded data removed]",
      "text/plain": [
       "<Figure size 432x288 with 1 Axes>"
      ]
     },
     "metadata": {
      "needs_background": "light"
     },
     "output_type": "display_data"
    },
    {
     "name": "stdout",
     "output_type": "stream",
     "text": [
      "5\n"
     ]
    }
   ],
   "source": [
    "plt.imshow(X_train[0], cmap=\"gray\")\n",
    "plt.show()\n",
    "print (y_train[0])"
   ]
  },
  {
   "cell_type": "code",
   "execution_count": 5,
   "metadata": {},
   "outputs": [
    {
     "data": {
      "image/png": "[encoded data removed]",
      "text/plain": [
       "<Figure size 432x288 with 1 Axes>"
      ]
     },
     "metadata": {
      "needs_background": "light"
     },
     "output_type": "display_data"
    },
    {
     "name": "stdout",
     "output_type": "stream",
     "text": [
      "2\n"
     ]
    }
   ],
   "source": [
    "plt.imshow(X_train[5], cmap=\"gray\")\n",
    "plt.show()\n",
    "print (y_train[5])"
   ]
  },
  {
   "cell_type": "code",
   "execution_count": 6,
   "metadata": {},
   "outputs": [
    {
     "name": "stdout",
     "output_type": "stream",
     "text": [
      "Shape of X_train: (60000, 28, 28)\n",
      "Shape of y_train: (60000,)\n",
      "Shape of X_test: (10000, 28, 28)\n",
      "Shape of y_test: (10000,)\n"
     ]
    }
   ],
   "source": [
    "## Checking out the shapes involved in dataset\n",
    "print (\"Shape of X_train: {}\".format(X_train.shape))\n",
    "print (\"Shape of y_train: {}\".format(y_train.shape))\n",
    "print (\"Shape of X_test: {}\".format(X_test.shape))\n",
    "print (\"Shape of y_test: {}\".format(y_test.shape))"
   ]
  },
  {
   "cell_type": "code",
   "execution_count": 7,
   "metadata": {},
   "outputs": [],
   "source": [
    "X_train = X_train.reshape(60000, 28, 28, 1)\n",
    "X_test = X_test.reshape(10000, 28, 28, 1)"
   ]
  },
  {
   "cell_type": "code",
   "execution_count": 8,
   "metadata": {},
   "outputs": [
    {
     "name": "stdout",
     "output_type": "stream",
     "text": [
      "Shape of X_train: (60000, 28, 28, 1)\n",
      "Shape of y_train: (60000,)\n",
      "Shape of X_test: (10000, 28, 28, 1)\n",
      "Shape of y_test: (10000,)\n"
     ]
    }
   ],
   "source": [
    "print (\"Shape of X_train: {}\".format(X_train.shape))\n",
    "print (\"Shape of y_train: {}\".format(y_train.shape))\n",
    "print (\"Shape of X_test: {}\".format(X_test.shape))\n",
    "print (\"Shape of y_test: {}\".format(y_test.shape))"
   ]
  },
  {
   "cell_type": "code",
   "execution_count": 9,
   "metadata": {},
   "outputs": [],
   "source": [
    "y_train = to_categorical(y_train)\n",
    "y_test = to_categorical(y_test)"
   ]
  },
  {
   "cell_type": "code",
   "execution_count": 14,
   "metadata": {},
   "outputs": [],
   "source": [
    "## Declare the model\n",
    "model = Sequential()\n",
    "\n",
    "## Declare the layers\n",
    "#layer_1 = Conv2D(32, kernel_size=3, activation='relu', input_shape=(28, 28, 1))\n",
    "#layer_2 = Conv2D(64, kernel_size=3, activation='relu')\n",
    "#layer_3 = Flatten()\n",
    "#layer_4 = Dense(10, activation='softmax')\n",
    "\n",
    "## Add the layers to the model\n",
    "model.add(Conv2D(32, kernel_size=3, activation='relu', input_shape=(28, 28, 1)))\n",
    "model.add(LeakyReLU(alpha=0.1))\n",
    "model.add(MaxPooling2D((2, 2),padding='same'))\n",
    "#model.add(Dropout(0.6))\n",
    "model.add(Conv2D(64, kernel_size=3, activation='relu'))\n",
    "model.add(LeakyReLU(alpha=0.1))\n",
    "model.add(MaxPooling2D(pool_size=(2, 2),padding='same'))\n",
    "model.add(Dropout(0.25))\n",
    "model.add(Flatten())\n",
    "#model.add(Dense(10, activation='linear'))\n",
    "model.add(LeakyReLU(alpha=0.1))           \n",
    "model.add(Dropout(0.4))\n",
    "model.add(Dense(10, activation='softmax'))"
   ]
  },
  {
   "cell_type": "code",
   "execution_count": 15,
   "metadata": {},
   "outputs": [],
   "source": [
    "model.compile(optimizer='adam', loss='categorical_crossentropy', metrics=['accuracy'])"
   ]
  },
  {
   "cell_type": "markdown",
   "metadata": {},
   "source": [
    "import os\n",
    "os.environ[\"PATH\"] += os.pathsep + 'C:/Program Files/Graphviz 2.44.1/bin'\n",
    "import pydotplus as pydot\n",
    "from keras.utils.vis_utils import plot_model\n",
    "import tensorflow as tf\n",
    "tf.keras.utils.plot_model(model, to_file=\"model_plot.png\", show_shapes=True, show_layer_names=True)"
   ]
  },
  {
   "cell_type": "code",
   "execution_count": 16,
   "metadata": {
    "scrolled": true
   },
   "outputs": [
    {
     "name": "stdout",
     "output_type": "stream",
     "text": [
      "Epoch 1/15\n",
      "1875/1875 [==============================] - 308s 164ms/step - loss: 0.5674 - accuracy: 0.8992 - val_loss: 0.0797 - val_accuracy: 0.9748\n",
      "Epoch 2/15\n",
      "1875/1875 [==============================] - 360s 192ms/step - loss: 0.1471 - accuracy: 0.9566 - val_loss: 0.0650 - val_accuracy: 0.9806\n",
      "Epoch 3/15\n",
      "1875/1875 [==============================] - 304s 162ms/step - loss: 0.1195 - accuracy: 0.9646 - val_loss: 0.0449 - val_accuracy: 0.9843\n",
      "Epoch 4/15\n",
      "1875/1875 [==============================] - 342s 182ms/step - loss: 0.1041 - accuracy: 0.9675 - val_loss: 0.0489 - val_accuracy: 0.9843\n",
      "Epoch 5/15\n",
      "1875/1875 [==============================] - 341s 182ms/step - loss: 0.0952 - accuracy: 0.9713 - val_loss: 0.0416 - val_accuracy: 0.9857\n",
      "Epoch 6/15\n",
      "1875/1875 [==============================] - 357s 191ms/step - loss: 0.0895 - accuracy: 0.9732 - val_loss: 0.0434 - val_accuracy: 0.9855\n",
      "Epoch 7/15\n",
      "1875/1875 [==============================] - 176s 94ms/step - loss: 0.0864 - accuracy: 0.9739 - val_loss: 0.0364 - val_accuracy: 0.9882\n",
      "Epoch 8/15\n",
      "1875/1875 [==============================] - 150s 80ms/step - loss: 0.0792 - accuracy: 0.9765 - val_loss: 0.0424 - val_accuracy: 0.9860\n",
      "Epoch 9/15\n",
      "1875/1875 [==============================] - 146s 78ms/step - loss: 0.0796 - accuracy: 0.9764 - val_loss: 0.0424 - val_accuracy: 0.9864\n",
      "Epoch 10/15\n",
      "1875/1875 [==============================] - 146s 78ms/step - loss: 0.0784 - accuracy: 0.9765 - val_loss: 0.0381 - val_accuracy: 0.9877\n",
      "Epoch 11/15\n",
      "1875/1875 [==============================] - 145s 77ms/step - loss: 0.0719 - accuracy: 0.9787 - val_loss: 0.0368 - val_accuracy: 0.9893\n",
      "Epoch 12/15\n",
      "1875/1875 [==============================] - 145s 78ms/step - loss: 0.0720 - accuracy: 0.9781 - val_loss: 0.0370 - val_accuracy: 0.9867\n",
      "Epoch 13/15\n",
      "1875/1875 [==============================] - 128s 68ms/step - loss: 0.0720 - accuracy: 0.9786 - val_loss: 0.0342 - val_accuracy: 0.9889\n",
      "Epoch 14/15\n",
      "1875/1875 [==============================] - 130s 69ms/step - loss: 0.0721 - accuracy: 0.9784 - val_loss: 0.0423 - val_accuracy: 0.9878\n",
      "Epoch 15/15\n",
      "1875/1875 [==============================] - 144s 77ms/step - loss: 0.0688 - accuracy: 0.9793 - val_loss: 0.0343 - val_accuracy: 0.9894\n"
     ]
    },
    {
     "data": {
      "text/plain": [
       "['loss', 'accuracy']"
      ]
     },
     "execution_count": 16,
     "metadata": {},
     "output_type": "execute_result"
    }
   ],
   "source": [
    "history = model.fit(X_train, y_train, validation_data=(X_test, y_test), epochs=15)\n",
    "model.test_on_batch(X_test, y_test)\n",
    "model.metrics_names"
   ]
  },
  {
   "cell_type": "code",
   "execution_count": 17,
   "metadata": {},
   "outputs": [
    {
     "name": "stdout",
     "output_type": "stream",
     "text": [
      "dict_keys(['loss', 'accuracy', 'val_loss', 'val_accuracy'])\n"
     ]
    },
    {
     "data": {
      "image/png": "[encoded data removed]",
      "text/plain": [
       "<Figure size 432x288 with 1 Axes>"
      ]
     },
     "metadata": {
      "needs_background": "light"
     },
     "output_type": "display_data"
    },
    {
     "data": {
      "image/png": "[encoded data removed]",
      "text/plain": [
       "<Figure size 432x288 with 1 Axes>"
      ]
     },
     "metadata": {
      "needs_background": "light"
     },
     "output_type": "display_data"
    }
   ],
   "source": [
    "print(history.history.keys())\n",
    "#  \"Accuracy\"\n",
    "plt.plot(history.history['accuracy'])\n",
    "plt.plot(history.history['val_accuracy'])\n",
    "plt.title('model accuracy')\n",
    "plt.ylabel('accuracy')\n",
    "plt.xlabel('epoch')\n",
    "plt.legend(['train', 'validation'], loc='upper left')\n",
    "plt.show()\n",
    "# \"Loss\"\n",
    "plt.plot(history.history['loss'])\n",
    "plt.plot(history.history['val_loss'])\n",
    "plt.title('model loss')\n",
    "plt.ylabel('loss')\n",
    "plt.xlabel('epoch')\n",
    "plt.legend(['train', 'validation'], loc='upper left')\n",
    "plt.show()"
   ]
  },
  {
   "cell_type": "code",
   "execution_count": 18,
   "metadata": {},
   "outputs": [],
   "source": [
    "test_eval = model.evaluate(X_test, y_test, verbose=0)"
   ]
  },
  {
   "cell_type": "code",
   "execution_count": 19,
   "metadata": {},
   "outputs": [
    {
     "name": "stdout",
     "output_type": "stream",
     "text": [
      "Test loss: 0.03426625579595566\n",
      "Test accuracy: 0.9894000291824341\n"
     ]
    }
   ],
   "source": [
    "print('Test loss:', test_eval[0])\n",
    "print('Test accuracy:', test_eval[1])"
   ]
  },
  {
   "cell_type": "code",
   "execution_count": 20,
   "metadata": {},
   "outputs": [
    {
     "name": "stdout",
     "output_type": "stream",
     "text": [
      "Prediction (Softmax) from the neural network:\n",
      "\n",
      " [[9.9999082e-01 1.9446906e-14 6.4326186e-06 2.1599931e-09 2.8635005e-10\n",
      "  5.3399574e-10 2.4477504e-06 3.8686632e-12 2.9111379e-07 4.3712131e-08]]\n",
      "\n",
      "\n",
      "Hard-maxed form of the prediction: \n",
      "\n",
      " [[1. 0. 0. 0. 0. 0. 0. 0. 0. 0.]]\n",
      "\n",
      "\n",
      "--------- Prediction --------- \n",
      "\n",
      "\n"
     ]
    },
    {
     "data": {
      "image/png": "[encoded data removed]",
      "text/plain": [
       "<Figure size 432x288 with 1 Axes>"
      ]
     },
     "metadata": {
      "needs_background": "light"
     },
     "output_type": "display_data"
    },
    {
     "name": "stdout",
     "output_type": "stream",
     "text": [
      "\n",
      "\n",
      "Final Output: 0\n"
     ]
    }
   ],
   "source": [
    "example = X_train[1]\n",
    "prediction = model.predict(example.reshape(1, 28, 28, 1))\n",
    "## First output\n",
    "print (\"Prediction (Softmax) from the neural network:\\n\\n {}\".format(prediction))\n",
    "## Second output\n",
    "hard_maxed_prediction = np.zeros(prediction.shape)\n",
    "hard_maxed_prediction[0][np.argmax(prediction)] = 1\n",
    "print (\"\\n\\nHard-maxed form of the prediction: \\n\\n {}\".format(hard_maxed_prediction))\n",
    "## Third output\n",
    "print (\"\\n\\n--------- Prediction --------- \\n\\n\")\n",
    "plt.imshow(example.reshape(28, 28), cmap=\"gray\")\n",
    "plt.show()\n",
    "print(\"\\n\\nFinal Output: {}\".format(np.argmax(prediction)))"
   ]
  },
  {
   "cell_type": "code",
   "execution_count": 50,
   "metadata": {},
   "outputs": [
    {
     "name": "stdout",
     "output_type": "stream",
     "text": [
      "\n",
      "\n",
      "\n",
      "----------------Contoured Image--------------------\n"
     ]
    },
    {
     "data": {
      "image/png": "[encoded data removed]",
      "text/plain": [
       "<Figure size 432x288 with 1 Axes>"
      ]
     },
     "metadata": {
      "needs_background": "light"
     },
     "output_type": "display_data"
    }
   ],
   "source": [
    "image = cv2.imread('calc.jpeg')\n",
    "grey = cv2.cvtColor(image.copy(), cv2.COLOR_BGR2GRAY)\n",
    "ret, thresh = cv2.threshold(grey.copy(), 75, 255, cv2.THRESH_BINARY_INV)\n",
    "contours, _ = cv2.findContours(thresh.copy(), cv2.RETR_EXTERNAL, cv2.CHAIN_APPROX_SIMPLE)\n",
    "preprocessed_digits = []\n",
    "for c in contours:\n",
    "    x,y,w,h = cv2.boundingRect(c)\n",
    "    \n",
    "    # Creating a rectangle around the digit in the original image (for displaying the digits fetched via contours)\n",
    "    cv2.rectangle(image, (x,y), (x+w, y+h), color=(0, 200, 0), thickness=5)\n",
    "    \n",
    "    # Cropping out the digit from the image corresponding to the current contours in the for loop\n",
    "    digit = thresh[y:y+h, x:x+w]\n",
    "    \n",
    "    # Resizing that digit to (18, 18)\n",
    "    resized_digit = cv2.resize(digit, (18,18))\n",
    "    \n",
    "    # Padding the digit with 5 pixels of black color (zeros) in each side to finally produce the image of (28, 28)\n",
    "    padded_digit = np.pad(resized_digit, ((5,5),(5,5)), \"constant\", constant_values=0)\n",
    "    \n",
    "    # Adding the preprocessed digit to the list of preprocessed digits\n",
    "    preprocessed_digits.append(padded_digit)\n",
    "print(\"\\n\\n\\n----------------Contoured Image--------------------\")\n",
    "plt.imshow(image, cmap=\"gray\")\n",
    "plt.show()\n",
    "    \n",
    "inp = np.array(preprocessed_digits)"
   ]
  },
  {
   "cell_type": "code",
   "execution_count": 43,
   "metadata": {},
   "outputs": [
    {
     "name": "stdout",
     "output_type": "stream",
     "text": [
      "\n",
      "\n",
      "---------------------------------------\n",
      "\n",
      "\n",
      "=========PREDICTION============ \n",
      "\n",
      "\n"
     ]
    },
    {
     "data": {
      "image/png": "[encoded data removed]",
      "text/plain": [
       "<Figure size 432x288 with 1 Axes>"
      ]
     },
     "metadata": {
      "needs_background": "light"
     },
     "output_type": "display_data"
    },
    {
     "name": "stdout",
     "output_type": "stream",
     "text": [
      "\n",
      "\n",
      "Final Output: 0\n",
      "\n",
      "Prediction (Softmax) from the neural network:\n",
      "\n",
      " [[1.0000000e+00 3.9306835e-21 8.5965957e-13 2.0067212e-16 4.3841525e-16\n",
      "  8.2894499e-13 1.2347982e-10 9.3564710e-16 2.0222009e-13 4.3404275e-13]]\n",
      "\n",
      "\n",
      "Hard-maxed form of the prediction: \n",
      "\n",
      " [[0. 0. 0. 0. 0. 0. 0. 0. 0. 0.]]\n",
      "\n",
      "\n",
      "---------------------------------------\n",
      "\n",
      "\n",
      "\n",
      "\n",
      "---------------------------------------\n",
      "\n",
      "\n",
      "=========PREDICTION============ \n",
      "\n",
      "\n"
     ]
    },
    {
     "data": {
      "image/png": "[encoded data removed]",
      "text/plain": [
       "<Figure size 432x288 with 1 Axes>"
      ]
     },
     "metadata": {
      "needs_background": "light"
     },
     "output_type": "display_data"
    },
    {
     "name": "stdout",
     "output_type": "stream",
     "text": [
      "\n",
      "\n",
      "Final Output: 7\n",
      "\n",
      "Prediction (Softmax) from the neural network:\n",
      "\n",
      " [[3.4042169e-16 1.5945048e-07 3.2530814e-05 4.5636037e-10 3.6908143e-11\n",
      "  1.1998675e-14 2.4884769e-18 9.9996734e-01 2.4402436e-10 1.0492899e-13]]\n",
      "\n",
      "\n",
      "Hard-maxed form of the prediction: \n",
      "\n",
      " [[0. 0. 0. 0. 0. 0. 0. 0. 0. 0.]]\n",
      "\n",
      "\n",
      "---------------------------------------\n",
      "\n",
      "\n",
      "\n",
      "\n",
      "---------------------------------------\n",
      "\n",
      "\n",
      "=========PREDICTION============ \n",
      "\n",
      "\n"
     ]
    },
    {
     "data": {
      "image/png": "[encoded data removed]",
      "text/plain": [
       "<Figure size 432x288 with 1 Axes>"
      ]
     },
     "metadata": {
      "needs_background": "light"
     },
     "output_type": "display_data"
    },
    {
     "name": "stdout",
     "output_type": "stream",
     "text": [
      "\n",
      "\n",
      "Final Output: 0\n",
      "\n",
      "Prediction (Softmax) from the neural network:\n",
      "\n",
      " [[1.0000000e+00 5.6104249e-19 4.3681587e-09 3.6308419e-12 1.5167599e-15\n",
      "  2.4070188e-12 2.2648670e-08 6.1359195e-14 5.9591393e-10 5.7195599e-09]]\n",
      "\n",
      "\n",
      "Hard-maxed form of the prediction: \n",
      "\n",
      " [[0. 0. 0. 0. 0. 0. 0. 0. 0. 0.]]\n",
      "\n",
      "\n",
      "---------------------------------------\n",
      "\n",
      "\n",
      "\n",
      "\n",
      "---------------------------------------\n",
      "\n",
      "\n",
      "=========PREDICTION============ \n",
      "\n",
      "\n"
     ]
    },
    {
     "data": {
      "image/png": "[encoded data removed]",
      "text/plain": [
       "<Figure size 432x288 with 1 Axes>"
      ]
     },
     "metadata": {
      "needs_background": "light"
     },
     "output_type": "display_data"
    },
    {
     "name": "stdout",
     "output_type": "stream",
     "text": [
      "\n",
      "\n",
      "Final Output: 0\n",
      "\n",
      "Prediction (Softmax) from the neural network:\n",
      "\n",
      " [[9.9999964e-01 2.0364000e-18 3.8731778e-09 2.3678687e-10 4.4944743e-16\n",
      "  1.0763501e-11 6.5100623e-09 3.8390723e-13 1.5496656e-08 3.3509525e-07]]\n",
      "\n",
      "\n",
      "Hard-maxed form of the prediction: \n",
      "\n",
      " [[0. 0. 0. 0. 0. 0. 0. 0. 0. 0.]]\n",
      "\n",
      "\n",
      "---------------------------------------\n",
      "\n",
      "\n",
      "\n",
      "\n",
      "---------------------------------------\n",
      "\n",
      "\n",
      "=========PREDICTION============ \n",
      "\n",
      "\n"
     ]
    },
    {
     "data": {
      "image/png": "[encoded data removed]",
      "text/plain": [
       "<Figure size 432x288 with 1 Axes>"
      ]
     },
     "metadata": {
      "needs_background": "light"
     },
     "output_type": "display_data"
    },
    {
     "name": "stdout",
     "output_type": "stream",
     "text": [
      "\n",
      "\n",
      "Final Output: 0\n",
      "\n",
      "Prediction (Softmax) from the neural network:\n",
      "\n",
      " [[1.0000000e+00 1.5755462e-21 6.2740890e-10 7.1942249e-14 4.1668396e-16\n",
      "  5.2138502e-13 1.1624280e-11 1.1562479e-14 8.7901457e-12 1.4144158e-10]]\n",
      "\n",
      "\n",
      "Hard-maxed form of the prediction: \n",
      "\n",
      " [[0. 0. 0. 0. 0. 0. 0. 0. 0. 0.]]\n",
      "\n",
      "\n",
      "---------------------------------------\n",
      "\n",
      "\n",
      "\n",
      "\n",
      "---------------------------------------\n",
      "\n",
      "\n",
      "=========PREDICTION============ \n",
      "\n",
      "\n"
     ]
    },
    {
     "data": {
      "image/png": "[encoded data removed]",
      "text/plain": [
       "<Figure size 432x288 with 1 Axes>"
      ]
     },
     "metadata": {
      "needs_background": "light"
     },
     "output_type": "display_data"
    },
    {
     "name": "stdout",
     "output_type": "stream",
     "text": [
      "\n",
      "\n",
      "Final Output: 4\n",
      "\n",
      "Prediction (Softmax) from the neural network:\n",
      "\n",
      " [[3.6935434e-27 1.6613101e-10 4.0564245e-12 2.9283759e-17 9.9999750e-01\n",
      "  3.0426491e-13 1.1710479e-23 2.5469330e-06 2.9187460e-13 1.0785058e-18]]\n",
      "\n",
      "\n",
      "Hard-maxed form of the prediction: \n",
      "\n",
      " [[0. 0. 0. 0. 0. 0. 0. 0. 0. 0.]]\n",
      "\n",
      "\n",
      "---------------------------------------\n",
      "\n",
      "\n"
     ]
    }
   ],
   "source": [
    "for digit in preprocessed_digits:\n",
    "    prediction = model.predict(digit.reshape(1, 28, 28, 1))  \n",
    "    \n",
    "    print (\"\\n\\n---------------------------------------\\n\\n\")\n",
    "    print (\"=========PREDICTION============ \\n\\n\")\n",
    "    plt.imshow(digit.reshape(28, 28), cmap=\"gray\")\n",
    "    plt.show()\n",
    "    print(\"\\n\\nFinal Output: {}\".format(np.argmax(prediction)))\n",
    "    \n",
    "    print (\"\\nPrediction (Softmax) from the neural network:\\n\\n {}\".format(prediction))\n",
    "    \n",
    "    hard_maxed_prediction = np.zeros(prediction.shape)\n",
    "    hard_maxed_prediction[0][np.argmax(prediction)] = 0\n",
    "    print (\"\\n\\nHard-maxed form of the prediction: \\n\\n {}\".format(hard_maxed_prediction))\n",
    "    print (\"\\n\\n---------------------------------------\\n\\n\")"
   ]
  },
  {
   "cell_type": "code",
   "execution_count": 62,
   "metadata": {},
   "outputs": [
    {
     "data": {
      "text/plain": [
       "array([2, 3, 4, 6, 0, 7, 8])"
      ]
     },
     "execution_count": 62,
     "metadata": {},
     "output_type": "execute_result"
    }
   ],
   "source": [
    "import numpy as np\n",
    "n=[2,3,4,6,0,7,8]\n",
    "arr=np.array(n)\n",
    "arr"
   ]
  },
  {
   "cell_type": "code",
   "execution_count": 75,
   "metadata": {},
   "outputs": [],
   "source": [
    "temp = (arr>5) & (arr<8)"
   ]
  },
  {
   "cell_type": "code",
   "execution_count": 76,
   "metadata": {},
   "outputs": [
    {
     "data": {
      "text/plain": [
       "array([6, 7])"
      ]
     },
     "execution_count": 76,
     "metadata": {},
     "output_type": "execute_result"
    }
   ],
   "source": [
    "arr[temp]"
   ]
  },
  {
   "cell_type": "code",
   "execution_count": null,
   "metadata": {},
   "outputs": [],
   "source": []
  }
 ],
 "metadata": {
  "kernelspec": {
   "display_name": "Python 3",
   "language": "python",
   "name": "python3"
  },
  "language_info": {
   "codemirror_mode": {
    "name": "ipython",
    "version": 3
   },
   "file_extension": ".py",
   "mimetype": "text/x-python",
   "name": "python",
   "nbconvert_exporter": "python",
   "pygments_lexer": "ipython3",
   "version": "3.8.3"
  }
 },
 "nbformat": 4,
 "nbformat_minor": 4
}
